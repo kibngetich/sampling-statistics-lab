{
 "cells": [
  {
   "cell_type": "markdown",
   "metadata": {},
   "source": [
    "# Sampling Statistics - Lab\n",
    "\n",
    "## Introduction\n",
    "\n",
    "Typically, we don't know statistics about a population itself. The only way to know these for sure is to survey the entirety of the population, which is typically impractical. For example, to know the true salary mean of individuals in the United States, we would have to survey each and every individual.\n",
    "\n",
    "In lieu of being able to know the true underlying population statistics, we estimate them. Point estimates are estimates of population parameters based on sample data. For instance, if we wanted to know the average age of registered voters in the U.S., we could take a survey of registered voters and then use the average age of the respondents as a point estimate of the average age of the population as a whole. \n",
    "\n",
    "The average of a sample is known as the sample mean. Sampling distribution can be thought of as relative frequency distribution with a large number of samples. A relative frequency distribution tends to approach the sampling distribution as the number of samples increase.\n",
    "\n",
    "## Objectives\n",
    "You will be able to:\n",
    "\n",
    "* Calculate and interpret sampling error\n",
    "* Explain how sample size is related to sampling error\n",
    "* Explain how the sampling error is related to population standard deviation\n",
    "\n",
    "## Background and Terminologies \n",
    "\n",
    "In order to learn the **population mean**, we don't measure the whole population. Instead, we take a random sample and use **sample mean, ( x_bar or $\\bar{x}$ )** to estimate the population mean **( mu or $\\mu$ )**. The sample mean is usually not exactly the same as the population mean and depends upon the values of samples chosen, however, the population mean remains fixed. While using the **sample mean** to estimate the population mean, we come across the **sampling error**, which directly relates to the **standard deviation** of a sampling statistic (e.g. mean values). This difference can be caused by many factors including poor survey design, biased sampling methods, and the randomness inherent to drawing a sample from a population.\n",
    "\n",
    "Let's learn about these concepts through an example."
   ]
  },
  {
   "cell_type": "markdown",
   "metadata": {},
   "source": [
    ">**Pumpkin Weights**\n",
    "\n",
    ">The population is the weight of six pumpkins (in pounds) displayed in a carnival \"Guess the Weight\" game booth. You are asked to guess the average weight of the six pumpkins by picking two pumpkins at a time randomly until all pumpkins have been used.\n",
    "\n",
    "| Pumpkin | Weight (in pounds) |\n",
    "|---------|--------------------|\n",
    "| A       |       19           |\n",
    "| B       |       14           |\n",
    "| C       |       15           |\n",
    "| D       |       9            |\n",
    "| E       |       10           |\n",
    "| F       |       17           |"
   ]
  },
  {
   "cell_type": "markdown",
   "metadata": {},
   "source": [
    "## Step 1\n",
    "\n",
    "Let's calculate the population mean first, which we calculate as:\n",
    "\n",
    "**$\\large \\mu = \\frac{\\text{sum of all elements}}{N}$**, where N is population size."
   ]
  },
  {
   "cell_type": "code",
   "execution_count": 146,
   "metadata": {},
   "outputs": [],
   "source": [
    "# Import necessary libraries\n",
    "import numpy as np\n",
    "from collections import Counter\n",
    "import matplotlib.pyplot as plt\n",
    "import itertools"
   ]
  },
  {
   "cell_type": "markdown",
   "metadata": {},
   "source": [
    "Create two lists, one with pumpkin names and one with the respective pumpkin weights. Combine the lists to create a pumpkin directory with the pumpkin names as keys and the pumpkin weights as values. "
   ]
  },
  {
   "cell_type": "code",
   "execution_count": 147,
   "metadata": {},
   "outputs": [
    {
     "name": "stdout",
     "output_type": "stream",
     "text": [
      "{'A': 19, 'B': 14, 'C': 15, 'D': 9, 'E': 10, 'F': 17}\n"
     ]
    }
   ],
   "source": [
    "# Create two lists with pumpkin names and weights\n",
    "\n",
    "pumpkin = ['A','B','C','D','E','F']\n",
    "weights = [19,14,15,9,10,17]\n",
    "\n",
    "# Combine both lists to create a dictionary\n",
    "\n",
    "pumpkin_dict = dict(zip(pumpkin,weights))\n",
    "\n",
    "print (pumpkin_dict)\n",
    "\n",
    "#{'A': 19, 'B': 14, 'C': 15, 'D': 9, 'E': 10, 'F': 17}\n"
   ]
  },
  {
   "cell_type": "markdown",
   "metadata": {},
   "source": [
    "Now, let's try to calculate the mean of the pumpkin population and also visualize the weight distribution. "
   ]
  },
  {
   "cell_type": "code",
   "execution_count": 148,
   "metadata": {},
   "outputs": [
    {
     "data": {
      "text/plain": [
       "14.0"
      ]
     },
     "execution_count": 148,
     "metadata": {},
     "output_type": "execute_result"
    }
   ],
   "source": [
    "# Calculate the population mean from pumpkin_dict\n",
    "\n",
    "def calculate_mu(x):\n",
    "\n",
    "    # Use the formula for mu given above\n",
    "    d = (sum(x.values()))/(len(x))\n",
    "\n",
    "    return (d)   \n",
    "\n",
    "mu = calculate_mu(pumpkin_dict)\n",
    "mu\n",
    "\n",
    "# 14.0"
   ]
  },
  {
   "cell_type": "markdown",
   "metadata": {},
   "source": [
    "That was a pretty a straightforward exercise. Let's use the data we have so far to visualize the weights of individual pumpkins and mean weight. "
   ]
  },
  {
   "cell_type": "code",
   "execution_count": 149,
   "metadata": {},
   "outputs": [
    {
     "data": {
      "text/plain": [
       "<matplotlib.lines.Line2D at 0x20972d7b1d0>"
      ]
     },
     "execution_count": 149,
     "metadata": {},
     "output_type": "execute_result"
    },
    {
     "data": {
      "image/png": "[encoded data removed]",
      "text/plain": [
       "<Figure size 640x480 with 1 Axes>"
      ]
     },
     "metadata": {},
     "output_type": "display_data"
    }
   ],
   "source": [
    "# Plot a bar graph showing weights of pumpkins and highlight the mean weight\n",
    "plt.bar(pumpkin_dict.keys(),pumpkin_dict.values())\n",
    "plt.axhline(mu,color=\"r\",linestyle=\"--\")\n",
    "\n"
   ]
  },
  {
   "cell_type": "markdown",
   "metadata": {},
   "source": [
    "We can see only one pumpkin has a weight which is equal to the mean weight (B:14). Let's try to simulate the random sampling process as stated below. "
   ]
  },
  {
   "cell_type": "markdown",
   "metadata": {},
   "source": [
    "## Step 2 : Calculate the mean of samples\n",
    "\n",
    "From the `pumpkin_dict`, we can now obtain the sampling distributions of the sample mean for a given sample size. We'll do this while sampling *without* replacement (to reflect the idea that one can have two pumpkins at a given time, and will be taken out of population once used). \n",
    "\n",
    "Let's also try to make the code more flexible to allow sampling of any number of pumpkins from the population to study the effect of the sample size on the sample mean. "
   ]
  },
  {
   "cell_type": "markdown",
   "metadata": {},
   "source": [
    "To achieve this, first, we need to identify all the possible combinations that can be observed by choosing 2 pumpkins from the population, following the game rule."
   ]
  },
  {
   "cell_type": "code",
   "execution_count": 150,
   "metadata": {},
   "outputs": [],
   "source": [
    "# Identify a sample size n \n",
    "n = 2 \n",
    "\n",
    "# Use itertools.combinations() to generate and print a list of combinations\n",
    "combs = itertools.combinations(pumpkin,n)\n",
    "\n",
    "\n",
    "# Using 2 samples, we can see 15 possible combinations as below:\n",
    "# [('A', 'B'), ('A', 'C'), ('A', 'D'), ('A', 'E'), ('A', 'F'), ('B', 'C'), ('B', 'D'), \n",
    "#  ('B', 'E'), ('B', 'F'), ('C', 'D'), ('C', 'E'), ('C', 'F'), ('D', 'E'), ('D', 'F'), \n",
    "#  ('E', 'F')]\n"
   ]
  },
  {
   "cell_type": "markdown",
   "metadata": {},
   "source": [
    "Great! We can now generate any number of combinations from the population (try changing the value of `n` above). The next step in the process is to calculate the mean of all possible combinations and study whether these means differ from the population mean, and whether sample size has any effect on estimating the population mean. \n",
    "\n",
    "Let's write a function that would include the code for generating combinations as above and also for identifying the mean for each sample. "
   ]
  },
  {
   "cell_type": "code",
   "execution_count": 151,
   "metadata": {},
   "outputs": [
    {
     "name": "stdout",
     "output_type": "stream",
     "text": [
      "[16.5, 17.0, 14.0, 14.5, 18.0, 14.5, 11.5, 12.0, 15.5, 12.0, 12.5, 16.0, 9.5, 13.0, 13.5]\n"
     ]
    }
   ],
   "source": [
    "\n",
    "def sample_means(sample_size, data):\n",
    "\n",
    "    \"\"\"\n",
    "    This function takes in population data as a dictionary along with a chosen sample size \n",
    "    to generate all possible combinations of given sample size. \n",
    "    The function calculates the mean of each sample and returns:\n",
    "    a) a list of all combinations ( as tuples ) \n",
    "    b) a list of means for all sample\n",
    "    \"\"\"\n",
    "\n",
    "    n = sample_size\n",
    "\n",
    "    # Calculate the mean of population\n",
    "    mu = calculate_mu(data)\n",
    "    #print (\"Mean of population is:\", mu)\n",
    "\n",
    "    # Generate all possible combinations using given sample size\n",
    "    combs = itertools.combinations(data,sample_size)\n",
    "\n",
    "    # Calculate the mean weight (x_bar) for all the combinations (samples) using the given data\n",
    "    x_bar_list = []\n",
    "\n",
    "    # Calculate sample mean for all combinations and append to x_bar_list\n",
    "    for combo in combs:\n",
    "        values = [data[element] for element in combo]  # Get values for each key in combo\n",
    "        mean = sum(values) / sample_size\n",
    "        x_bar_list.append(mean)\n",
    "    # return combs, x_bar_list\n",
    "    return x_bar_list\n",
    "\n",
    "n = 2 #Sample size\n",
    "\n",
    "# combs, means = sample_means(n, pumpkin_dict)\n",
    "means = sample_means(n, pumpkin_dict)\n",
    "\n",
    "# # Print the sample combinations with their means\n",
    "# print(combs,means)\n",
    "print(means)\n",
    "\n",
    "\n",
    "\n",
    "# Using 2 samples, we can see 15 possible combinations as below:\n",
    "# The mean of all sample means mu_x_hat is: 14.0\n",
    "# ('A', 'B') 16.5\n",
    "# ('A', 'C') 17.0\n",
    "# ('A', 'D') 14.0\n",
    "# ('A', 'E') 14.5\n",
    "# ('A', 'F') 18.0\n",
    "# ('B', 'C') 14.5\n",
    "# ('B', 'D') 11.5\n",
    "# ('B', 'E') 12.0\n",
    "# ('B', 'F') 15.5\n",
    "# ('C', 'D') 12.0\n",
    "# ('C', 'E') 12.5\n",
    "# ('C', 'F') 16.0\n",
    "# ('D', 'E') 9.5\n",
    "# ('D', 'F') 13.0\n",
    "# ('E', 'F') 13.5\n",
    "# The mean of all sample means mu_x_hat is: 14.0\n"
   ]
  },
  {
   "cell_type": "markdown",
   "metadata": {},
   "source": [
    "Thus, even though each sample may give you an answer involving some error, the expected value is right at the target: exactly the population mean. In other words: \n",
    ">If one does the experiment over and over again, the overall average of the sample mean is exactly the population mean.\n",
    "\n",
    "In the output above, we can see that some mean values i.e. 14.5, 12, are being repeated in the combinations. We can develop a frequency table to identify the probability of seeing a different mean value. "
   ]
  },
  {
   "cell_type": "code",
   "execution_count": 152,
   "metadata": {},
   "outputs": [
    {
     "name": "stdout",
     "output_type": "stream",
     "text": [
      "<itertools.combinations object at 0x000002096F6D38D0> [16.5, 17.0, 14.0, 14.5, 18.0, 14.5, 11.5, 12.0, 15.5, 12.0, 12.5, 16.0, 9.5, 13.0, 13.5] [0.06666666666666667, 0.06666666666666667, 0.06666666666666667, 0.13333333333333333, 0.06666666666666667, 0.06666666666666667, 0.13333333333333333, 0.06666666666666667, 0.06666666666666667, 0.06666666666666667, 0.06666666666666667, 0.06666666666666667, 0.06666666666666667]\n"
     ]
    }
   ],
   "source": [
    "def calculate_probability(meanss):\n",
    "    '''\n",
    "    Input: a list of means (x_hats)\n",
    "    Output: a list of probablitity of each mean value\n",
    "    '''\n",
    "    #Calculate the frequency of each mean value\n",
    "    freq = Counter(meanss)\n",
    "\n",
    "    prob = []\n",
    "\n",
    "    # Calculate and append frequency of each mean value in the prob list. \n",
    "    for key,value in freq.items():\n",
    "        values=(value/len(means))\n",
    "        prob.append(values)\n",
    "\n",
    "    return prob\n",
    "    \n",
    "probs = calculate_probability(means)\n",
    "\n",
    "# Print combinations with sample means and probability of each mean value\n",
    "print(combs,means,probs)\n",
    "\n",
    "\n",
    "# ('A', 'B') 16.5 1/15\n",
    "# ('A', 'C') 17.0 1/15\n",
    "# ('A', 'D') 14.0 1/15\n",
    "# ('A', 'E') 14.5 2/15\n",
    "# ('A', 'F') 18.0 1/15\n",
    "# ('B', 'C') 14.5 2/15\n",
    "# ('B', 'D') 11.5 1/15\n",
    "# ('B', 'E') 12.0 2/15\n",
    "# ('B', 'F') 15.5 1/15\n",
    "# ('C', 'D') 12.0 2/15\n",
    "# ('C', 'E') 12.5 1/15\n",
    "# ('C', 'F') 16.0 1/15\n",
    "# ('D', 'E') 9.5 1/15\n",
    "# ('D', 'F') 13.0 1/15\n",
    "# ('E', 'F') 13.5 1/15\n",
    "\n"
   ]
  },
  {
   "cell_type": "markdown",
   "metadata": {},
   "source": [
    "Here, we see that the chance that the sample mean is exactly the population mean (i.e. 14) is only 1 in 15 (row 3), very small. It may also happen that the sample mean can never be the same value as the population mean. \n",
    "\n",
    "The difference between the sample mean and the population mean is known as the **Sampling Error**.  \n",
    "\n",
    ">When using the sample mean to estimate the population mean, some possible error will be involved since random sample means are also random.\n",
    "\n",
    "## Sample size and sampling error: \n",
    "\n",
    "Sample means cluster more closely around the population mean as the sample size increases. Thus, sampling error decreases as sample size increases."
   ]
  },
  {
   "cell_type": "markdown",
   "metadata": {},
   "source": [
    "Let's repeat the above exercise while increasing the sample size from 2 to 5. "
   ]
  },
  {
   "cell_type": "code",
   "execution_count": 167,
   "metadata": {},
   "outputs": [
    {
     "name": "stdout",
     "output_type": "stream",
     "text": [
      "[('A', 'B', 'C', 'D', 'E'), ('A', 'B', 'C', 'D', 'F'), ('A', 'B', 'C', 'E', 'F'), ('A', 'B', 'D', 'E', 'F'), ('A', 'C', 'D', 'E', 'F'), ('B', 'C', 'D', 'E', 'F')] [13.4, 14.8, 15.0, 13.8, 14.0, 13.0]\n",
      "[0.16666666666666666, 0.16666666666666666, 0.16666666666666666, 0.16666666666666666, 0.16666666666666666, 0.16666666666666666]\n"
     ]
    }
   ],
   "source": [
    "n = 5\n",
    "\n",
    "# Use above functions to generate combinations as samples with means and calculate the probability of seeing\n",
    "combi=list(itertools.combinations(pumpkin,5))\n",
    "# each mean value  with sample size = 5.\n",
    "means=sample_means(n,pumpkin_dict)\n",
    "print(combi,means)\n",
    "\n",
    "# Using 5 samples with a population of size, we can see 6 possible combinations\n",
    "print(calculate_probability(means))\n",
    "# The mean of all sample means mu_x_hat is: 14.0\n",
    "# 1 ('A', 'B', 'C', 'D', 'E') 13.4 1/6\n",
    "# 2 ('A', 'B', 'C', 'D', 'F') 14.8 1/6\n",
    "# 3 ('A', 'B', 'C', 'E', 'F') 15.0 1/6\n",
    "# 4 ('A', 'B', 'D', 'E', 'F') 13.8 1/6\n",
    "# 5 ('A', 'C', 'D', 'E', 'F') 14.0 1/6\n",
    "# 6 ('B', 'C', 'D', 'E', 'F') 13.0 1/6\n"
   ]
  },
  {
   "cell_type": "markdown",
   "metadata": {},
   "source": [
    "Again, we see that using the sample mean to estimate the population mean involves sampling error. Sample means do not fully agree with the population mean. The mean of sample means, however, is still 14. "
   ]
  },
  {
   "cell_type": "markdown",
   "metadata": {},
   "source": [
    "In order to fully appreciate the impact of sample size on estimating the population mean, let's try to visualize sample means and how the spread of values change when changing sample size. \n",
    "\n",
    "In a loop, run the above experiment with sample sizes ranging from 1 to 5 and measure and visualize the spread of values around the population mean. "
   ]
  },
  {
   "cell_type": "code",
   "execution_count": 154,
   "metadata": {},
   "outputs": [
    {
     "data": {
      "text/plain": [
       "[[19.0, 14.0, 15.0, 9.0, 10.0, 17.0],\n",
       " [16.5,\n",
       "  17.0,\n",
       "  14.0,\n",
       "  14.5,\n",
       "  18.0,\n",
       "  14.5,\n",
       "  11.5,\n",
       "  12.0,\n",
       "  15.5,\n",
       "  12.0,\n",
       "  12.5,\n",
       "  16.0,\n",
       "  9.5,\n",
       "  13.0,\n",
       "  13.5],\n",
       " [16.0,\n",
       "  14.0,\n",
       "  14.333333333333334,\n",
       "  16.666666666666668,\n",
       "  14.333333333333334,\n",
       "  14.666666666666666,\n",
       "  17.0,\n",
       "  12.666666666666666,\n",
       "  15.0,\n",
       "  15.333333333333334,\n",
       "  12.666666666666666,\n",
       "  13.0,\n",
       "  15.333333333333334,\n",
       "  11.0,\n",
       "  13.333333333333334,\n",
       "  13.666666666666666,\n",
       "  11.333333333333334,\n",
       "  13.666666666666666,\n",
       "  14.0,\n",
       "  12.0],\n",
       " [14.25,\n",
       "  14.5,\n",
       "  16.25,\n",
       "  13.0,\n",
       "  14.75,\n",
       "  15.0,\n",
       "  13.25,\n",
       "  15.0,\n",
       "  15.25,\n",
       "  13.75,\n",
       "  12.0,\n",
       "  13.75,\n",
       "  14.0,\n",
       "  12.5,\n",
       "  12.75],\n",
       " [13.4, 14.8, 15.0, 13.8, 14.0, 13.0]]"
      ]
     },
     "execution_count": 154,
     "metadata": {},
     "output_type": "execute_result"
    }
   ],
   "source": [
    "# Run a for loop to execute above code for sample size 1 to 5 and visualise the spread of sample \n",
    "means=[]\n",
    "for i in range(1,6):\n",
    "    samplemeans=sample_means(sample_size=i,data=pumpkin_dict)\n",
    "    means.append(samplemeans)\n",
    "means\n",
    "# means\n",
    "\n",
    "\n",
    "\n",
    "# Using 1 samples with a population of size, we can see 6 possible combinations \n",
    "# The mean of all sample means mu_x_hat is: 14.0\n",
    "\n",
    "# Using 2 samples with a population of size, we can see 15 possible combinations \n",
    "# The mean of all sample means mu_x_hat is: 14.0\n",
    "\n",
    "# Using 3 samples with a population of size, we can see 20 possible combinations \n",
    "# The mean of all sample means mu_x_hat is: 14.0\n",
    "\n",
    "# Using 4 samples with a population of size, we can see 15 possible combinations \n",
    "# The mean of all sample means mu_x_hat is: 14.0\n",
    "\n",
    "# Using 5 samples with a population of size, we can see 6 possible combinations \n",
    "# The mean of all sample means mu_x_hat is: 14.0"
   ]
  },
  {
   "cell_type": "markdown",
   "metadata": {},
   "source": [
    "We can see that with increasing sample size, the **spread** of sample means is reduced and the sample mean values tend to come closer to the population mean."
   ]
  },
  {
   "cell_type": "markdown",
   "metadata": {},
   "source": [
    "## Step 3: Calculate the standard error\n",
    "\n",
    "### So what is standard error?\n",
    "\n",
    "The **_Standard Error (SE)_** is very similar to the standard deviation. Both are measures of spread. The higher the number, the more spread out your data is. To put it simply, the two terms are essentially equal — but there is one important difference. While the standard error uses statistics (sample data), standard deviations use parameters (population data). We achieve this by dividing the standard deviation by the square root of the sample size.\n",
    "\n",
    "The calculation for the standard error of the sample mean is:\n",
    "\n",
    "## $$ \\sigma_{\\bar{x}} = \\frac{\\sigma}{\\sqrt{n}} \\approx \\frac{s}{\\sqrt{n}}$$\n",
    "\n",
    "Here, $\\sigma$ is the population standard deviation (which we will approximate with the sample standard deviation $s$) and $n$ is the sample size.\n",
    "\n",
    "Let's run the above block of code again and calculate the standard error according to the chosen sample size"
   ]
  },
  {
   "cell_type": "code",
   "execution_count": 166,
   "metadata": {},
   "outputs": [
    {
     "data": {
      "text/plain": [
       "[19.0,\n",
       " 14.0,\n",
       " 15.0,\n",
       " 9.0,\n",
       " 10.0,\n",
       " 17.0,\n",
       " 11.667261889578034,\n",
       " 12.020815280171307,\n",
       " 9.899494936611665,\n",
       " 10.253048327204938,\n",
       " 12.727922061357855,\n",
       " 10.253048327204938,\n",
       " 8.131727983645296,\n",
       " 8.48528137423857,\n",
       " 10.960155108391486,\n",
       " 8.48528137423857,\n",
       " 8.838834764831843,\n",
       " 11.31370849898476,\n",
       " 6.717514421272201,\n",
       " 9.192388155425117,\n",
       " 9.54594154601839,\n",
       " 9.237604307034013,\n",
       " 8.082903768654761,\n",
       " 8.275353858384637,\n",
       " 9.622504486493764,\n",
       " 8.275353858384637,\n",
       " 8.467803948114511,\n",
       " 9.814954576223638,\n",
       " 7.31310340973526,\n",
       " 8.660254037844387,\n",
       " 8.852704127574263,\n",
       " 7.31310340973526,\n",
       " 7.505553499465135,\n",
       " 8.852704127574263,\n",
       " 6.3508529610858835,\n",
       " 7.698003589195011,\n",
       " 7.890453678924885,\n",
       " 6.5433030508157595,\n",
       " 7.890453678924885,\n",
       " 8.082903768654761,\n",
       " 6.92820323027551,\n",
       " 7.125,\n",
       " 7.25,\n",
       " 8.125,\n",
       " 6.5,\n",
       " 7.375,\n",
       " 7.5,\n",
       " 6.625,\n",
       " 7.5,\n",
       " 7.625,\n",
       " 6.875,\n",
       " 6.0,\n",
       " 6.875,\n",
       " 7.0,\n",
       " 6.25,\n",
       " 6.375,\n",
       " 5.992662179699436,\n",
       " 6.618761213399377,\n",
       " 6.7082039324993685,\n",
       " 6.17154761789942,\n",
       " 6.260990336999411,\n",
       " 5.813776741499453]"
      ]
     },
     "execution_count": 166,
     "metadata": {},
     "output_type": "execute_result"
    }
   ],
   "source": [
    "# Create empty lists for storing sample means, combinations and standard error for each iteration\n",
    "means_list = []\n",
    "combs_list = []\n",
    "err_list = []\n",
    "# Create a for loop with changing sample sizes\n",
    "    \n",
    "    # Calculate combinations, means as earlier, append to relevant lists\n",
    "for i in range(1,6):\n",
    "        combination=list(itertools.combinations(pumpkin,i))\n",
    "        samplemeans=sample_means(sample_size=i,data=pumpkin_dict)\n",
    "        means_list.append(samplemeans)\n",
    "        combs_list.append(combination)\n",
    "combs_list,means_list\n",
    "\n",
    "    \n",
    "\n",
    "    # Calculate and append the standard error by dividing sample means with square root of sample size\n",
    "for i,sample_mean in enumerate(means_list,start=1):\n",
    "    for element in sample_mean:\n",
    "        std_error=(element)/(i**0.5)\n",
    "        err_list.append(std_error)\n",
    "err_list\n",
    "\n",
    "    \n",
    "\n",
    "    # Visualize sample spread and standard error values for each sample"
   ]
  },
  {
   "cell_type": "markdown",
   "metadata": {},
   "source": [
    "Thus, even though each sample may give you an answer involving some error, the expected value is right at the target: exactly the population mean. In other words, if one does the experiment over and over again, the overall average of the sample mean is exactly the population mean. If the sample size is increased, the standard error is reduced. \n",
    "\n",
    "According to the **Central Limit Theorem**, for a large sample size, `x_hat` is approximately normally distributed, regardless of the distribution of the population one samples from.\n",
    "\n",
    "## Summary\n",
    "\n",
    "In this lab, we saw how sampling statistics relate to population statistics. In order to estimate a population parameter (i.e. mean) with a high level of accuracy, We must reduce the spread or the sample error which is simply the standard deviation of the samples from the sample mean. The size of samples must be set carefully in order to avoid excessive values for standard error to gain a high level of confidence in our population estimates. "
   ]
  }
 ],
 "metadata": {
  "kernelspec": {
   "display_name": "Python (learn-env)",
   "language": "python",
   "name": "learn-env"
  },
  "language_info": {
   "codemirror_mode": {
    "name": "ipython",
    "version": 3
   },
   "file_extension": ".py",
   "mimetype": "text/x-python",
   "name": "python",
   "nbconvert_exporter": "python",
   "pygments_lexer": "ipython3",
   "version": "3.11.7"
  },
  "toc": {
   "base_numbering": 1,
   "nav_menu": {},
   "number_sections": true,
   "sideBar": true,
   "skip_h1_title": false,
   "title_cell": "Table of Contents",
   "title_sidebar": "Contents",
   "toc_cell": false,
   "toc_position": {},
   "toc_section_display": true,
   "toc_window_display": false
  }
 },
 "nbformat": 4,
 "nbformat_minor": 2
}
